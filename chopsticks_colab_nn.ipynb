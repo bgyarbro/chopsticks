{
  "nbformat": 4,
  "nbformat_minor": 0,
  "metadata": {
    "colab": {
      "name": "chopsticks_colab.ipynb",
      "provenance": [],
      "collapsed_sections": [],
      "authorship_tag": "ABX9TyOlfAvoTESJOqoZsTT6bAB6",
      "include_colab_link": true
    },
    "kernelspec": {
      "name": "python3",
      "display_name": "Python 3"
    }
  },
  "cells": [
    {
      "cell_type": "markdown",
      "metadata": {
        "id": "view-in-github",
        "colab_type": "text"
      },
      "source": [
        "<a href=\"https://colab.research.google.com/github/bgyarbro/chopsticks-game/blob/master/chopsticks_colab_nn.ipynb\" target=\"_parent\"><img src=\"https://colab.research.google.com/assets/colab-badge.svg\" alt=\"Open In Colab\"/></a>"
      ]
    },
    {
      "cell_type": "code",
      "metadata": {
        "id": "ZdPsZeDXia0V",
        "colab_type": "code",
        "colab": {
          "base_uri": "https://localhost:8080/",
          "height": 35
        },
        "outputId": "feb097d2-9c48-4764-88ce-f5b0356762cb"
      },
      "source": [
        "%tensorflow_version 1.x"
      ],
      "execution_count": 1,
      "outputs": [
        {
          "output_type": "stream",
          "text": [
            "TensorFlow 1.x selected.\n"
          ],
          "name": "stdout"
        }
      ]
    },
    {
      "cell_type": "code",
      "metadata": {
        "id": "ytkHd-6ytwf_",
        "colab_type": "code",
        "colab": {}
      },
      "source": [
        "import random\n",
        "import itertools\n",
        "import collections\n",
        "import math\n",
        "import numpy as np\n",
        "import tensorflow as tf"
      ],
      "execution_count": 2,
      "outputs": []
    },
    {
      "cell_type": "code",
      "metadata": {
        "id": "DdPytBAmijy9",
        "colab_type": "code",
        "colab": {
          "base_uri": "https://localhost:8080/",
          "height": 35
        },
        "outputId": "f3b7a650-6d98-4caa-c242-481903334486"
      },
      "source": [
        "tf.__version__"
      ],
      "execution_count": 3,
      "outputs": [
        {
          "output_type": "execute_result",
          "data": {
            "application/vnd.google.colaboratory.intrinsic+json": {
              "type": "string"
            },
            "text/plain": [
              "'1.15.2'"
            ]
          },
          "metadata": {
            "tags": []
          },
          "execution_count": 3
        }
      ]
    },
    {
      "cell_type": "code",
      "metadata": {
        "id": "vNTiEN75t-fV",
        "colab_type": "code",
        "colab": {}
      },
      "source": [
        "def new_board():\n",
        "    \"\"\"This function returns a new starting board,\n",
        "    with hands 1 1 1 1.\"\"\"\n",
        "    return ((1,1),\n",
        "            (1,1))\n",
        "\n",
        "def apply_move(board_state, move, side):\n",
        "    \"\"\"This function takes a move and side which turn it is to play\n",
        "    and applies it to a given board state and returns the resulting\n",
        "    board state. move = 1,2,3,or 4 meaning RR, RL, LR, LL\"\"\"\n",
        "\n",
        "    state_list = list(list(s) for s in board_state)\n",
        "    if side == 1:\n",
        "        hand_to_move = state_list[0]\n",
        "        hand_other = state_list[1]\n",
        "    if side == -1:\n",
        "        hand_to_move = state_list[1]\n",
        "        hand_other = state_list[0]\n",
        "    if move == (1,0):\n",
        "        hand_other[0] = ( hand_other[0] + hand_to_move[0] ) % 5\n",
        "    if move == (2,0):\n",
        "        hand_other[1] = ( hand_other[1] + hand_to_move[0] ) % 5\n",
        "    if move == (3,0):\n",
        "        hand_other[0] = ( hand_other[0] + hand_to_move[1] ) % 5\n",
        "    if move == (4,0):\n",
        "        hand_other[1] = ( hand_other[1] + hand_to_move[1] ) % 5\n",
        "    if side == 1:\n",
        "        new_state_list = [hand_to_move, hand_other]\n",
        "    if side == -1:\n",
        "        new_state_list = [hand_other, hand_to_move]\n",
        "\n",
        "    return tuple(tuple(s) for s in new_state_list)\n",
        "\n",
        "\n",
        "def available_moves(board_state, side):\n",
        "    \"\"\"This function returns all the available moves for a\n",
        "    given player. Not sure if this should return a list or\n",
        "    use the yield keyword. And if using yield, should it \n",
        "    yield a tuple?\"\"\"\n",
        "\n",
        "    if side == 1:\n",
        "        if board_state[0][0] != 0:\n",
        "            if board_state[1][0] != 0:\n",
        "                yield (1,0)\n",
        "        if board_state[0][0] != 0:\n",
        "            if board_state[1][1] != 0:\n",
        "                yield (2,0)\n",
        "        if board_state[0][1] != 0:\n",
        "            if board_state[1][0] != 0:\n",
        "                yield (3,0)\n",
        "        if board_state[0][1] != 0:\n",
        "            if board_state[1][1] != 0:\n",
        "                yield (4,0)\n",
        "    if side == -1:  \n",
        "        if board_state[1][0] != 0:\n",
        "            if board_state[0][0] != 0:\n",
        "                yield (1,0)\n",
        "        if board_state[1][0] != 0:\n",
        "            if board_state[0][1] != 0:\n",
        "                yield (2,0)\n",
        "        if board_state[1][1] != 0:\n",
        "            if board_state[0][0] != 0:\n",
        "                yield (3,0)\n",
        "        if board_state[1][1] != 0:\n",
        "            if board_state[0][1] != 0:\n",
        "                yield (4,0)\n",
        "\n",
        "\n",
        "def has_winner(board_state):\n",
        "    \"\"\"\"\"\"\n",
        "\n",
        "    state_list = list(list(s) for s in board_state)\n",
        "    if (state_list[0][0] == 0 and state_list[0][1] == 0):\n",
        "        return -1\n",
        "    if (state_list[1][0] == 0 and state_list[1][1] == 0):\n",
        "        return 1\n",
        "    else:\n",
        "        return 0 # no one has won\n",
        "\n",
        "\n",
        "def play_game(plus_player_func, minus_player_func):\n",
        "\n",
        "\n",
        "    board_state = new_board()\n",
        "\n",
        "    player_turn = 1\n",
        "\n",
        "    while True:\n",
        "        \n",
        "        _available_moves = list(available_moves(board_state, player_turn))\n",
        "        if not _available_moves:\n",
        "            print(\"you broke it, no moves left\")\n",
        "            return 0\n",
        "\n",
        "        if player_turn > 0:\n",
        "            print(plus_player_func(board_state, 1, 100))\n",
        "            move = plus_player_func(board_state, 1, 100)[1]\n",
        "            #move = tuple(int(x.strip()) for x in input(\"Make your move \" ).split(','))\n",
        "        else:\n",
        "            move = minus_player_func(board_state, -1, 100)[1]\n",
        "\n",
        "        if move not in _available_moves:\n",
        "            # if a player makes an invalid move the other player wins\n",
        "            print(\"illergal move, yer other player wins\")\n",
        "            return -player_turn\n",
        "\n",
        "        board_state = apply_move(board_state, move, player_turn)\n",
        "        print(\"Player \" + str(player_turn) + \" to move\")\n",
        "        print(\"plays \" + str(move))\n",
        "        print(board_state)\n",
        "\n",
        "        winner = has_winner(board_state)\n",
        "\n",
        "        if winner != 0:\n",
        "            print(\"we have a winner: side %s\" % player_turn)\n",
        "            return winner\n",
        "        player_turn = -player_turn\n",
        "\n",
        "\n",
        "def random_player(board_state, side, blank=\"\"):\n",
        "    moves = list(available_moves(board_state, side))\n",
        "    return random.choice(moves)"
      ],
      "execution_count": 18,
      "outputs": []
    },
    {
      "cell_type": "code",
      "metadata": {
        "id": "FVKfuKYLt-we",
        "colab_type": "code",
        "colab": {}
      },
      "source": [
        "def monte_carlo_sample(board_state, side):\n",
        "    \"\"\"Sample a single rollout from the current board_state and side. Moves are made to the current board_state until we\n",
        "     reach a terminal state then the result and the first move made to get there is returned.\n",
        "    Args:\n",
        "        board_state (3x3 tuple of int): state of the board\n",
        "        side (int): side currently to play. +1 for the plus player, -1 for the minus player\n",
        "    Returns:\n",
        "        (result(int), move(int,int)): The result from this rollout, +1 for a win for the plus player -1 for a win for\n",
        "            the minus player, 0 for a draw\n",
        "    \"\"\"\n",
        "    result = has_winner(board_state)\n",
        "    if result != 0:\n",
        "        return result, None\n",
        "    moves = available_moves(board_state, side)\n",
        "    if not moves:\n",
        "        return 0, None\n",
        "\n",
        "    # select a random move\n",
        "    move = random.choice(moves)\n",
        "    result, next_move = monte_carlo_sample(apply_move(board_state, move, side), -side)\n",
        "    return result, move\n",
        "\n",
        "\n",
        "def monte_carlo_tree_search(board_state, side, number_of_samples):\n",
        "    \"\"\"Evaluate the best from the current board_state for the given side using monte carlo sampling.\n",
        "    Args:\n",
        "        board_state (3x3 tuple of int): state of the board\n",
        "        side (int): side currently to play. +1 for the plus player, -1 for the minus player\n",
        "        number_of_samples (int): number of samples rollouts to run from the current position, the higher the number the\n",
        "            better the estimation of the position\n",
        "    Returns:\n",
        "        (result(int), move(int,int)): The average result for the best move from this position and what that move was.\n",
        "    \"\"\"\n",
        "    move_wins = collections.defaultdict(int)\n",
        "    move_samples = collections.defaultdict(int)\n",
        "    for _ in range(number_of_samples):\n",
        "        print(_)\n",
        "        result, move = monte_carlo_sample(board_state, side)\n",
        "        # store the result and a count of the number of times we have tried this move\n",
        "        if result == side:\n",
        "            move_wins[move] += 1\n",
        "        move_samples[move] += 1\n",
        "\n",
        "    # get the move with the best average result\n",
        "    move = max(move_wins, key=lambda x: move_wins.get(x) / move_samples[move])\n",
        "\n",
        "    return move_wins[move] / move_samples[move], move\n",
        "\n",
        "\n",
        "def _upper_confidence_bounds(payout, samples_for_this_machine, log_total_samples):\n",
        "    return payout / samples_for_this_machine + math.sqrt((2 * log_total_samples) / samples_for_this_machine)\n",
        "\n",
        "\n",
        "def monte_carlo_tree_search_uct(board_state, side, number_of_samples):\n",
        "    \"\"\"Evaluate the best from the current board_state for the given side using monte carlo sampling with upper\n",
        "    confidence bounds for trees.\n",
        "    Args:\n",
        "        board_state (3x3 tuple of int): state of the board\n",
        "        side (int): side currently to play. +1 for the plus player, -1 for the minus player\n",
        "        number_of_samples (int): number of samples rollouts to run from the current position, the higher the number the\n",
        "            better the estimation of the position\n",
        "    Returns:\n",
        "        (result(int), move(int,int)): The average result for the best move from this position and what that move was.\n",
        "    \"\"\"\n",
        "    state_results = collections.defaultdict(float)\n",
        "    state_samples = collections.defaultdict(float)\n",
        "\n",
        "    for _ in range(number_of_samples):\n",
        "        #print(_)\n",
        "        current_side = side\n",
        "        current_board_state = board_state\n",
        "        first_unvisited_node = True\n",
        "        rollout_path = []\n",
        "        result = 0\n",
        "        \n",
        "        ticker = 0\n",
        "        while result == 0:\n",
        "            if ticker > 1000000:\n",
        "                result = 0\n",
        "                break\n",
        "            #if ticker % 100000 == 0:\n",
        "                #print(ticker / 1000000)\n",
        "            ticker += 1\n",
        "            move_states = {move: apply_move(current_board_state, move, current_side)\n",
        "                           for move in available_moves(current_board_state, current_side)}\n",
        "\n",
        "            if not move_states:\n",
        "                result = 0\n",
        "                break\n",
        "\n",
        "            #for move in available_moves(current_board_state, current_side):\n",
        "            #    print(move)\n",
        "\n",
        "            #print(move_states)\n",
        "            #print(\"state samples\")\n",
        "            #for key, val in state_samples.items():\n",
        "            #    print(key, \":\", val)\n",
        "\n",
        "            if all((state in state_samples) for _, state in move_states):\n",
        "                log_total_samples = math.log(sum(state_samples[s] for s in move_states.values()))\n",
        "                move, state = max(move_states, key=lambda _, s: _upper_confidence_bounds(state_results[s],\n",
        "                                                                                         state_samples[s],\n",
        "                                                                                         log_total_samples))\n",
        "            else:\n",
        "                move = random.choice(list(move_states.keys()))\n",
        "\n",
        "            current_board_state = move_states[move]\n",
        "\n",
        "            if first_unvisited_node:\n",
        "                rollout_path.append((current_board_state, current_side))\n",
        "                if current_board_state not in state_samples:\n",
        "                    first_unvisited_node = False\n",
        "\n",
        "            current_side = -current_side\n",
        "\n",
        "            result = has_winner(current_board_state)\n",
        "\n",
        "        for path_board_state, path_side in rollout_path:\n",
        "            state_samples[path_board_state] += 1.\n",
        "            result *= path_side\n",
        "            # normalize results to be between 0 and 1 before this it between -1 and 1\n",
        "            result /= 2.\n",
        "            result += .5\n",
        "            state_results[path_board_state] += result\n",
        "\n",
        "    move_states = {move: apply_move(board_state, move, side) for move in available_moves(board_state, side)}\n",
        "\n",
        "    move = max(move_states, key=lambda x: state_results[move_states[x]] / state_samples[move_states[x]])\n",
        "\n",
        "    return state_results[move_states[move]] / state_samples[move_states[move]], move"
      ],
      "execution_count": 5,
      "outputs": []
    },
    {
      "cell_type": "code",
      "metadata": {
        "id": "ZpEpy-4Xt-6I",
        "colab_type": "code",
        "colab": {}
      },
      "source": [
        "#play_game(monte_carlo_tree_search_uct, monte_carlo_tree_search_uct)"
      ],
      "execution_count": 6,
      "outputs": []
    },
    {
      "cell_type": "code",
      "metadata": {
        "id": "dVRWvPZ5t_Au",
        "colab_type": "code",
        "colab": {}
      },
      "source": [
        "# hyperparameters\n",
        "HIDDEN_NODES = (100, 100, 100)  # number of hidden layer neurons\n",
        "INPUT_NODES = (2 * 2)\n",
        "BATCH_SIZE = 100\n",
        "LEARN_RATE = 1e-4\n",
        "OUTPUT_NODES = INPUT_NODES\n",
        "PRINT_RESULTS_EVERY_X = 200 #"
      ],
      "execution_count": 7,
      "outputs": []
    },
    {
      "cell_type": "code",
      "metadata": {
        "id": "C30wqSAbt_Gv",
        "colab_type": "code",
        "colab": {}
      },
      "source": [
        "input_placeholder = tf.placeholder(\"float\", shape=(None, INPUT_NODES))\n",
        "reward_placeholder = tf.placeholder(\"float\", shape=(None,))\n",
        "actual_move_placeholder = tf.placeholder(\"float\", shape=(None, OUTPUT_NODES))"
      ],
      "execution_count": 8,
      "outputs": []
    },
    {
      "cell_type": "code",
      "metadata": {
        "id": "sp_tIomXixmb",
        "colab_type": "code",
        "colab": {}
      },
      "source": [
        "hidden_weights_1 = tf.Variable(tf.truncated_normal((INPUT_NODES, HIDDEN_NODES[0]), stddev=1. / np.sqrt(INPUT_NODES)))\n",
        "hidden_weights_2 = tf.Variable(\n",
        "    tf.truncated_normal((HIDDEN_NODES[0], HIDDEN_NODES[1]), stddev=1. / np.sqrt(HIDDEN_NODES[0])))\n",
        "hidden_weights_3 = tf.Variable(\n",
        "    tf.truncated_normal((HIDDEN_NODES[1], HIDDEN_NODES[2]), stddev=1. / np.sqrt(HIDDEN_NODES[1])))\n",
        "output_weights = tf.Variable(tf.truncated_normal((HIDDEN_NODES[-1], OUTPUT_NODES), stddev=1. / np.sqrt(OUTPUT_NODES)))\n",
        "\n",
        "hidden_layer_1 = tf.nn.relu(\n",
        "    tf.matmul(input_placeholder, hidden_weights_1) + tf.Variable(tf.constant(0.01, shape=(HIDDEN_NODES[0],))))\n",
        "hidden_layer_2 = tf.nn.relu(\n",
        "    tf.matmul(hidden_layer_1, hidden_weights_2) + tf.Variable(tf.constant(0.01, shape=(HIDDEN_NODES[1],))))\n",
        "hidden_layer_3 = tf.nn.relu(\n",
        "    tf.matmul(hidden_layer_2, hidden_weights_3) + tf.Variable(tf.constant(0.01, shape=(HIDDEN_NODES[2],))))\n",
        "output_layer = tf.nn.softmax(\n",
        "    tf.matmul(hidden_layer_3, output_weights) + tf.Variable(tf.constant(0.01, shape=(OUTPUT_NODES,))))"
      ],
      "execution_count": 10,
      "outputs": []
    },
    {
      "cell_type": "code",
      "metadata": {
        "id": "SZA7SVfkiyW7",
        "colab_type": "code",
        "colab": {
          "base_uri": "https://localhost:8080/",
          "height": 89
        },
        "outputId": "111a9ab7-424d-4746-ada2-afa18156670f"
      },
      "source": [
        "policy_gradient = tf.reduce_sum(tf.reshape(reward_placeholder, (-1, 1)) * actual_move_placeholder * output_layer)\n",
        "train_step = tf.train.RMSPropOptimizer(LEARN_RATE).minimize(-policy_gradient)"
      ],
      "execution_count": 11,
      "outputs": [
        {
          "output_type": "stream",
          "text": [
            "WARNING:tensorflow:From /tensorflow-1.15.2/python3.6/tensorflow_core/python/training/rmsprop.py:119: calling Ones.__init__ (from tensorflow.python.ops.init_ops) with dtype is deprecated and will be removed in a future version.\n",
            "Instructions for updating:\n",
            "Call initializer instance with the dtype argument instead of passing it to the constructor\n"
          ],
          "name": "stdout"
        }
      ]
    },
    {
      "cell_type": "code",
      "metadata": {
        "id": "sLWGsXYNiykS",
        "colab_type": "code",
        "colab": {}
      },
      "source": [
        "sess = tf.Session()\n",
        "sess.run(tf.global_variables_initializer())"
      ],
      "execution_count": 13,
      "outputs": []
    },
    {
      "cell_type": "code",
      "metadata": {
        "id": "Ca_2OBnPgiJ6",
        "colab_type": "code",
        "colab": {}
      },
      "source": [
        "board_states, actual_moves, rewards = [], [], []"
      ],
      "execution_count": 14,
      "outputs": []
    },
    {
      "cell_type": "code",
      "metadata": {
        "id": "T9JUxnXKgo5R",
        "colab_type": "code",
        "colab": {}
      },
      "source": [
        "episode_number = 1\n",
        "results = collections.deque()"
      ],
      "execution_count": 15,
      "outputs": []
    },
    {
      "cell_type": "code",
      "metadata": {
        "id": "J-Cu4VSmgr1i",
        "colab_type": "code",
        "colab": {}
      },
      "source": [
        "def make_move(board_state, side):\n",
        "    board_state_flat = np.ravel(board_state)\n",
        "    board_states.append(board_state_flat)\n",
        "    probability_of_actions = sess.run(output_layer, feed_dict={input_placeholder: [board_state_flat]})[0]\n",
        "\n",
        "    try:\n",
        "        move = np.random.multinomial(1, probability_of_actions)\n",
        "    except ValueError:\n",
        "        # sometimes because of rounding errors we end up with probability_of_actions summing to greater than 1.\n",
        "        # so need to reduce slightly to be a valid value\n",
        "        move = np.random.multinomial(1, probability_of_actions / (sum(probability_of_actions) + 1e-7))\n",
        "\n",
        "    actual_moves.append(move)\n",
        "\n",
        "    move_index = move.argmax()\n",
        "    return move_index / 4, move_index % 4"
      ],
      "execution_count": 16,
      "outputs": []
    },
    {
      "cell_type": "code",
      "metadata": {
        "id": "22IIibj_jh32",
        "colab_type": "code",
        "colab": {
          "base_uri": "https://localhost:8080/",
          "height": 357
        },
        "outputId": "490bd9d0-11f4-4573-c128-4660fa400f1d"
      },
      "source": [
        "while True:\n",
        "    reward = play_game(make_move, random_player)\n",
        "\n",
        "    results.append(reward)\n",
        "    if len(results) > PRINT_RESULTS_EVERY_X:\n",
        "        results.popleft()\n",
        "\n",
        "    last_game_length = len(board_states) - len(rewards)\n",
        "\n",
        "    # we scale here so winning quickly is better winning slowly and loosing slowly better than loosing quick\n",
        "    reward /= float(last_game_length)\n",
        "\n",
        "    rewards += ([reward] * last_game_length)\n",
        "\n",
        "    episode_number += 1\n",
        "\n",
        "    if episode_number % BATCH_SIZE == 0:\n",
        "        normalized_rewards = rewards - np.mean(rewards)\n",
        "        normalized_rewards /= np.std(normalized_rewards)\n",
        "\n",
        "        sess.run(train_step, feed_dict={input_placeholder: board_states,\n",
        "                                        reward_placeholder: normalized_rewards,\n",
        "                                        actual_move_placeholder: actual_moves})\n",
        "\n",
        "        # clear batches\n",
        "        del board_states[:]\n",
        "        del actual_moves[:]\n",
        "        del rewards[:]\n",
        "\n",
        "    if episode_number % PRINT_RESULTS_EVERY_X == 0:\n",
        "        print(\"episode: %s win_rate: %s\" % (episode_number, 0.5 + sum(results) / (PRINT_RESULTS_EVERY_X * 2.)))"
      ],
      "execution_count": 19,
      "outputs": [
        {
          "output_type": "error",
          "ename": "TypeError",
          "evalue": "ignored",
          "traceback": [
            "\u001b[0;31m---------------------------------------------------------------------------\u001b[0m",
            "\u001b[0;31mTypeError\u001b[0m                                 Traceback (most recent call last)",
            "\u001b[0;32m<ipython-input-19-124a984a65b3>\u001b[0m in \u001b[0;36m<module>\u001b[0;34m()\u001b[0m\n\u001b[1;32m      1\u001b[0m \u001b[0;32mwhile\u001b[0m \u001b[0;32mTrue\u001b[0m\u001b[0;34m:\u001b[0m\u001b[0;34m\u001b[0m\u001b[0;34m\u001b[0m\u001b[0m\n\u001b[0;32m----> 2\u001b[0;31m     \u001b[0mreward\u001b[0m \u001b[0;34m=\u001b[0m \u001b[0mplay_game\u001b[0m\u001b[0;34m(\u001b[0m\u001b[0mmake_move\u001b[0m\u001b[0;34m,\u001b[0m \u001b[0mrandom_player\u001b[0m\u001b[0;34m)\u001b[0m\u001b[0;34m\u001b[0m\u001b[0;34m\u001b[0m\u001b[0m\n\u001b[0m\u001b[1;32m      3\u001b[0m \u001b[0;34m\u001b[0m\u001b[0m\n\u001b[1;32m      4\u001b[0m     \u001b[0mresults\u001b[0m\u001b[0;34m.\u001b[0m\u001b[0mappend\u001b[0m\u001b[0;34m(\u001b[0m\u001b[0mreward\u001b[0m\u001b[0;34m)\u001b[0m\u001b[0;34m\u001b[0m\u001b[0;34m\u001b[0m\u001b[0m\n\u001b[1;32m      5\u001b[0m     \u001b[0;32mif\u001b[0m \u001b[0mlen\u001b[0m\u001b[0;34m(\u001b[0m\u001b[0mresults\u001b[0m\u001b[0;34m)\u001b[0m \u001b[0;34m>\u001b[0m \u001b[0mPRINT_RESULTS_EVERY_X\u001b[0m\u001b[0;34m:\u001b[0m\u001b[0;34m\u001b[0m\u001b[0;34m\u001b[0m\u001b[0m\n",
            "\u001b[0;32m<ipython-input-18-d4faba2c2d09>\u001b[0m in \u001b[0;36mplay_game\u001b[0;34m(plus_player_func, minus_player_func)\u001b[0m\n\u001b[1;32m     94\u001b[0m \u001b[0;34m\u001b[0m\u001b[0m\n\u001b[1;32m     95\u001b[0m         \u001b[0;32mif\u001b[0m \u001b[0mplayer_turn\u001b[0m \u001b[0;34m>\u001b[0m \u001b[0;36m0\u001b[0m\u001b[0;34m:\u001b[0m\u001b[0;34m\u001b[0m\u001b[0;34m\u001b[0m\u001b[0m\n\u001b[0;32m---> 96\u001b[0;31m             \u001b[0mprint\u001b[0m\u001b[0;34m(\u001b[0m\u001b[0mplus_player_func\u001b[0m\u001b[0;34m(\u001b[0m\u001b[0mboard_state\u001b[0m\u001b[0;34m,\u001b[0m \u001b[0;36m1\u001b[0m\u001b[0;34m,\u001b[0m \u001b[0;36m100\u001b[0m\u001b[0;34m)\u001b[0m\u001b[0;34m)\u001b[0m\u001b[0;34m\u001b[0m\u001b[0;34m\u001b[0m\u001b[0m\n\u001b[0m\u001b[1;32m     97\u001b[0m             \u001b[0mmove\u001b[0m \u001b[0;34m=\u001b[0m \u001b[0mplus_player_func\u001b[0m\u001b[0;34m(\u001b[0m\u001b[0mboard_state\u001b[0m\u001b[0;34m,\u001b[0m \u001b[0;36m1\u001b[0m\u001b[0;34m,\u001b[0m \u001b[0;36m100\u001b[0m\u001b[0;34m)\u001b[0m\u001b[0;34m[\u001b[0m\u001b[0;36m1\u001b[0m\u001b[0;34m]\u001b[0m\u001b[0;34m\u001b[0m\u001b[0;34m\u001b[0m\u001b[0m\n\u001b[1;32m     98\u001b[0m             \u001b[0;31m#move = tuple(int(x.strip()) for x in input(\"Make your move \" ).split(','))\u001b[0m\u001b[0;34m\u001b[0m\u001b[0;34m\u001b[0m\u001b[0;34m\u001b[0m\u001b[0m\n",
            "\u001b[0;31mTypeError\u001b[0m: make_move() takes 2 positional arguments but 3 were given"
          ]
        }
      ]
    },
    {
      "cell_type": "code",
      "metadata": {
        "id": "539PYrT_jpQf",
        "colab_type": "code",
        "colab": {}
      },
      "source": [
        ""
      ],
      "execution_count": null,
      "outputs": []
    }
  ]
}